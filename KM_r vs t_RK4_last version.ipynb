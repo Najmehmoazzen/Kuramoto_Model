{
 "cells": [
  {
   "cell_type": "markdown",
   "id": "e9d291b6-285e-497c-aa9c-80550699c1ac",
   "metadata": {
    "id": "e9d291b6-285e-497c-aa9c-80550699c1ac"
   },
   "source": [
    "## Recoding Kuramoto for Random initial values for a Fully connected network (Runge-Kutta method)\n",
    "+ ### order parameter vs time plot\n",
    "#### Date: Tir 1402\n",
    "\n",
    "Kuramoto model described by this equation:\n",
    "$$\n",
    "\\frac{d\\theta_i}{dt} = \\omega_i + \\frac{K}{N}\\sum_{j=1}^N A_{ij}\\sin(\\theta_j - \\theta_i),\\quad i = 1, \\dots, N\n",
    "$$\n",
    "Also the order parameter defined by:\n",
    "$$\n",
    "r = \\frac{1}{N} \\sum_{j=1}^{N} e^{i\\theta_j}\n",
    "$$"
   ]
  },
  {
   "cell_type": "code",
   "execution_count": 42,
   "id": "96735348-1ae3-4d10-b1fc-7052a4a06aae",
   "metadata": {
    "id": "96735348-1ae3-4d10-b1fc-7052a4a06aae"
   },
   "outputs": [],
   "source": [
    "import numpy as np\n",
    "import networkx as nx\n",
    "import matplotlib.pyplot as plt"
   ]
  },
  {
   "cell_type": "code",
   "execution_count": 43,
   "id": "8040555f-e8fe-411e-b1d1-00e5d3719056",
   "metadata": {
    "colab": {
     "base_uri": "https://localhost:8080/"
    },
    "id": "8040555f-e8fe-411e-b1d1-00e5d3719056",
    "outputId": "e11e7f6d-95dc-4bd1-f38a-94d4adc7bd27"
   },
   "outputs": [
    {
     "name": "stdout",
     "output_type": "stream",
     "text": [
      "the adjacency matrix is:\n",
      "[[0 1 1 ... 1 1 1]\n",
      " [1 0 1 ... 1 1 1]\n",
      " [1 1 0 ... 1 1 1]\n",
      " ...\n",
      " [1 1 1 ... 0 1 1]\n",
      " [1 1 1 ... 1 0 1]\n",
      " [1 1 1 ... 1 1 0]]\n"
     ]
    }
   ],
   "source": [
    "#Initial values\n",
    "\n",
    "N=200                                                           # Number of nodes (oscillators)\n",
    "\n",
    "mu, sigma = 0, 1                                                # Parameters for normal distribution\n",
    "omega = np.random.normal(mu, sigma, size=N)                     # Natural frequencies\n",
    "\n",
    "theta_initial = np.random.uniform(0, 2*np.pi, size=N)           # Initial phase angles for  t=0\n",
    "theta=np.zeros(N)\n",
    "\n",
    "#How to make adjancy matrix of a fully connected network?\n",
    "#Create an Erdos_Renyi network with probability 1.\n",
    "G=nx.erdos_renyi_graph(N, 1)                                    # Erdos_renyi_graph(n:number of nodes, probability, seed=None, directed=False)\n",
    "# Get the adjacency matrix\n",
    "print(\"the adjacency matrix is:\")\n",
    "Adj = nx.adjacency_matrix(G).todense()                          # A is adjecency matrix\n",
    "print(Adj)"
   ]
  },
  {
   "cell_type": "code",
   "execution_count": 13,
   "id": "82ddb1df-2b45-4486-9b81-a448464571f1",
   "metadata": {
    "colab": {
     "base_uri": "https://localhost:8080/",
     "height": 87
    },
    "id": "82ddb1df-2b45-4486-9b81-a448464571f1",
    "outputId": "38020473-ee3d-460d-f663-4f39a2c7a2e6"
   },
   "outputs": [
    {
     "data": {
      "text/plain": [
       "'def rk4(f, y0, x0, xf, h):\\n    x = np.arange(x0, xf+h, h)\\n    n=len(x)\\n    m=len(y0)\\n    y = np.zeros((n,m))\\n    y[0] = y0\\n\\n    for i in range (1, len(x)):\\n        k1 = h * f(x[i-1] , y[i-1])\\n        k2 = h * f(x[i-1]+ h/2 , y[i-1]+ k1/2 )\\n        k3 = h * f(x[i-1]+ h/2 , y[i-1]+ k2/2)\\n        k4 = h * f(x[i-1]+ h ,  y[i-1]+ k3,couplig,matrix)\\n        y[i] = y[i-1] + (1/6)*(k1 +2*k2 + 2*k3 + k4)\\n\\n    return x , y'"
      ]
     },
     "execution_count": 13,
     "metadata": {},
     "output_type": "execute_result"
    }
   ],
   "source": [
    "#rk\n",
    "'''def rk4(f, y0, x0, xf, h):\n",
    "    x = np.arange(x0, xf+h, h)\n",
    "    n=len(x)\n",
    "    m=len(y0)\n",
    "    y = np.zeros((n,m))\n",
    "    y[0] = y0\n",
    "\n",
    "    for i in range (1, len(x)):\n",
    "        k1 = h * f(x[i-1] , y[i-1])\n",
    "        k2 = h * f(x[i-1]+ h/2 , y[i-1]+ k1/2 )\n",
    "        k3 = h * f(x[i-1]+ h/2 , y[i-1]+ k2/2)\n",
    "        k4 = h * f(x[i-1]+ h ,  y[i-1]+ k3,couplig,matrix)\n",
    "        y[i] = y[i-1] + (1/6)*(k1 +2*k2 + 2*k3 + k4)\n",
    "\n",
    "    return x , y'''"
   ]
  },
  {
   "cell_type": "markdown",
   "id": "d633785a-bece-457b-8de1-b77e04dd8064",
   "metadata": {
    "id": "d633785a-bece-457b-8de1-b77e04dd8064"
   },
   "source": [
    " Kuramoto equation is:\n",
    "$$\n",
    "\\frac{d\\theta_i}{dt} = \\omega_i + \\frac{K}{N}\\sum_{j=1}^N A_{ij}\\sin(\\theta_j - \\theta_i),\\quad i = 1, \\dots, N\n",
    "$$"
   ]
  },
  {
   "cell_type": "code",
   "execution_count": 14,
   "id": "c2ea7189-0f9e-4090-98fa-4b1764af732f",
   "metadata": {
    "id": "c2ea7189-0f9e-4090-98fa-4b1764af732f"
   },
   "outputs": [],
   "source": [
    "def Kuramoto (w, theta, K, A):\n",
    "    N=len(theta)\n",
    "    dtheta_dt=np.zeros(N)\n",
    "    for i in range (0,N,1):\n",
    "        Sigma=0\n",
    "        for j in range (0,N,1):\n",
    "            Sigma=Sigma+A[i][j]*np.sin(theta[j]-theta[i])\n",
    "        dtheta_dt[i]=w[i]+(K/N)*Sigma\n",
    "    return dtheta_dt"
   ]
  },
  {
   "cell_type": "markdown",
   "id": "7b4bc307-a9de-4f08-9e92-0faf035984d6",
   "metadata": {
    "id": "7b4bc307-a9de-4f08-9e92-0faf035984d6"
   },
   "source": [
    "$$ r=R e^{i\\psi} = \\frac{1}{N} \\sum_{j=1}^N e^{i\\theta_j} = \\frac{1}{N} \\left(\\sum_{j=1}^N \\cos\\theta_j + i\\sum_{j=1}^N \\sin\\theta_j\\right) $$\n",
    "\n",
    "$$ r \\cos\\psi = \\frac{1}{N} \\sum_{j=1}^N \\cos\\theta_j $$\n",
    "\n",
    "$$ r \\sin\\psi = \\frac{1}{N} \\sum_{j=1}^N \\sin\\theta_j $$\n",
    "\n",
    "$$ r = \\sqrt{\\left(\\frac{1}{N} \\sum_{j=1}^N \\cos\\theta_j\\right)^2 + \\left(\\frac{1}{N} \\sum_{j=1}^N \\sin\\theta_j\\right)^2} $$"
   ]
  },
  {
   "cell_type": "code",
   "execution_count": 15,
   "id": "e3728b47-0268-4199-b28e-46bb65c73cac",
   "metadata": {
    "id": "e3728b47-0268-4199-b28e-46bb65c73cac"
   },
   "outputs": [],
   "source": [
    "# Define the order parameter function\n",
    "def order_parameter (theta):\n",
    "    N=len(theta)\n",
    "    r_cos=0\n",
    "    r_sin=0\n",
    "    r=0\n",
    "    r_cos=(1/N)*sum(np.cos(theta))\n",
    "    r_sin=(1/N)*sum(np.sin(theta))\n",
    "    r=np.sqrt(pow(r_cos,2)+pow(r_sin,2))\n",
    "    return r"
   ]
  },
  {
   "cell_type": "code",
   "execution_count": 16,
   "id": "ad59c00c-940d-4c85-a6fc-3e5e5c0b0f51",
   "metadata": {
    "id": "ad59c00c-940d-4c85-a6fc-3e5e5c0b0f51"
   },
   "outputs": [],
   "source": [
    "# Total order parameter value for each coupling strength\n",
    "def r_total(r):\n",
    "    count=0\n",
    "    order_parameter=0\n",
    "    n_step=len(r)\n",
    "    for i in range (int((4/5)*n_step),n_step):\n",
    "        order_parameter=order_parameter+r[i]\n",
    "        count=count+1\n",
    "    return (order_parameter/count)"
   ]
  },
  {
   "cell_type": "code",
   "execution_count": 44,
   "id": "2bf7d026-3158-4faa-88a1-476cfd866d14",
   "metadata": {
    "colab": {
     "base_uri": "https://localhost:8080/",
     "height": 357
    },
    "id": "2bf7d026-3158-4faa-88a1-476cfd866d14",
    "outputId": "113c9f55-aa8e-4923-b80b-0c305ab72d0b"
   },
   "outputs": [
    {
     "name": "stdout",
     "output_type": "stream",
     "text": [
      "Elapsed time: 1858.9561614990234 seconds\n"
     ]
    }
   ],
   "source": [
    "import time\n",
    "start_time = time.time()  # get the start time\n",
    "\n",
    "t_final=5000\n",
    "dt=0.01\n",
    "coupling=1.5                                                      # Change k =[0.016 , 3.52]    dk=0.5\n",
    "theta_old=np.zeros(N)\n",
    "theta_new=np.zeros(N)\n",
    "theta_old=theta_initial\n",
    "\n",
    "syncrony=np.zeros(5000)\n",
    "\n",
    "\n",
    "with open('Saved/r_t/data_k='+str(coupling)+'.txt', 'w') as file:\n",
    "    # Time evolution of phases\n",
    "    for t in range (0,t_final,1):\n",
    "        k1 = dt * Kuramoto(omega, theta_old, coupling, Adj)\n",
    "        k2 = dt * Kuramoto(omega, theta_old + k1/2, coupling, Adj)\n",
    "        k3 = dt * Kuramoto(omega, theta_old + k2/2, coupling, Adj)\n",
    "        k4 = dt * Kuramoto(omega, theta_old + k3, coupling, Adj)\n",
    "        theta_new = theta_old + (1/6)*(k1 + 2*k2 + 2*k3 + k4)\n",
    "        #theta_new=theta_old+Kuramoto(omega, theta_old, coupling, Adj)*dt\n",
    "        theta_old=theta_new\n",
    "        syncrony[t]=order_parameter(theta_new)\n",
    "        file.write(f'{t}\\t{syncrony[t]}\\n')\n",
    "\n",
    "\n",
    "\n",
    "end_time = time.time()  # get the end time\n",
    "elapsed_time = end_time - start_time  # calculate the elapsed time\n",
    "print(f\"Elapsed time: {elapsed_time} seconds\")"
   ]
  },
  {
   "cell_type": "code",
   "execution_count": 45,
   "id": "d04b7ae1-37e4-443d-b8ce-fa7c99fa6908",
   "metadata": {
    "id": "d04b7ae1-37e4-443d-b8ce-fa7c99fa6908",
    "outputId": "b98ac36f-289c-4359-dc04-ec8c32b00833"
   },
   "outputs": [
    {
     "data": {
      "image/png": "[encoded data removed]",
      "text/plain": [
       "<Figure size 640x480 with 1 Axes>"
      ]
     },
     "metadata": {},
     "output_type": "display_data"
    }
   ],
   "source": [
    "# Plot order parameter vs time\n",
    "time=np.linspace(dt,t_final*dt,t_final)\n",
    "plt.plot(time,syncrony)\n",
    "plt.xlabel('Time')\n",
    "plt.ylabel('Order Parameter')\n",
    "plt.show()\n",
    "#np.savetxt('R_new.txt', synchrny,'%f3')    #save synchrony in a txt file with 3 decimal places."
   ]
  }
 ],
 "metadata": {
  "colab": {
   "provenance": []
  },
  "kernelspec": {
   "display_name": "Python 3 (ipykernel)",
   "language": "python",
   "name": "python3"
  },
  "language_info": {
   "codemirror_mode": {
    "name": "ipython",
    "version": 3
   },
   "file_extension": ".py",
   "mimetype": "text/x-python",
   "name": "python",
   "nbconvert_exporter": "python",
   "pygments_lexer": "ipython3",
   "version": "3.9.0"
  }
 },
 "nbformat": 4,
 "nbformat_minor": 5
}
